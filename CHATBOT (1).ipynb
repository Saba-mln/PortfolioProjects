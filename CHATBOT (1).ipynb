{
  "cells": [
    {
      "cell_type": "code",
      "execution_count": null,
      "metadata": {
        "id": "BprW8mRdo2bX"
      },
      "outputs": [],
      "source": []
    },
    {
      "cell_type": "code",
      "execution_count": null,
      "metadata": {
        "id": "R3BT19MnpADP"
      },
      "outputs": [],
      "source": [
        "from google.colab import drive\n",
        "drive.mount('/content/drive')"
      ]
    },
    {
      "cell_type": "markdown",
      "metadata": {
        "id": "266Wvi5ruFJ3"
      },
      "source": [
        "!pip install tensorflow"
      ]
    },
    {
      "cell_type": "code",
      "execution_count": null,
      "metadata": {
        "id": "vS-jQpFluaye"
      },
      "outputs": [],
      "source": [
        "!pip install tflearn"
      ]
    },
    {
      "cell_type": "code",
      "execution_count": null,
      "metadata": {
        "colab": {
          "base_uri": "https://localhost:8080/"
        },
        "id": "ElRQwzHeq92A",
        "outputId": "af64f0ba-4a16-43f4-ef3d-12c7dfba4858"
      },
      "outputs": [
        {
          "output_type": "stream",
          "name": "stdout",
          "text": [
            "Collecting tensorflow-gpu\n",
            "  Downloading tensorflow_gpu-2.8.0-cp37-cp37m-manylinux2010_x86_64.whl (497.5 MB)\n",
            "\u001b[K     |████████████████████████████████| 497.5 MB 28 kB/s \n",
            "\u001b[?25hRequirement already satisfied: protobuf>=3.9.2 in /usr/local/lib/python3.7/dist-packages (from tensorflow-gpu) (3.17.3)\n",
            "Requirement already satisfied: tensorboard<2.9,>=2.8 in /usr/local/lib/python3.7/dist-packages (from tensorflow-gpu) (2.8.0)\n",
            "Requirement already satisfied: six>=1.12.0 in /usr/local/lib/python3.7/dist-packages (from tensorflow-gpu) (1.15.0)\n",
            "Requirement already satisfied: opt-einsum>=2.3.2 in /usr/local/lib/python3.7/dist-packages (from tensorflow-gpu) (3.3.0)\n",
            "Requirement already satisfied: astunparse>=1.6.0 in /usr/local/lib/python3.7/dist-packages (from tensorflow-gpu) (1.6.3)\n",
            "Requirement already satisfied: h5py>=2.9.0 in /usr/local/lib/python3.7/dist-packages (from tensorflow-gpu) (3.1.0)\n",
            "Requirement already satisfied: tensorflow-io-gcs-filesystem>=0.23.1 in /usr/local/lib/python3.7/dist-packages (from tensorflow-gpu) (0.24.0)\n",
            "Requirement already satisfied: absl-py>=0.4.0 in /usr/local/lib/python3.7/dist-packages (from tensorflow-gpu) (1.0.0)\n",
            "Requirement already satisfied: setuptools in /usr/local/lib/python3.7/dist-packages (from tensorflow-gpu) (57.4.0)\n",
            "Requirement already satisfied: termcolor>=1.1.0 in /usr/local/lib/python3.7/dist-packages (from tensorflow-gpu) (1.1.0)\n",
            "Requirement already satisfied: flatbuffers>=1.12 in /usr/local/lib/python3.7/dist-packages (from tensorflow-gpu) (2.0)\n",
            "Requirement already satisfied: google-pasta>=0.1.1 in /usr/local/lib/python3.7/dist-packages (from tensorflow-gpu) (0.2.0)\n",
            "Requirement already satisfied: typing-extensions>=3.6.6 in /usr/local/lib/python3.7/dist-packages (from tensorflow-gpu) (4.1.1)\n",
            "Requirement already satisfied: libclang>=9.0.1 in /usr/local/lib/python3.7/dist-packages (from tensorflow-gpu) (13.0.0)\n",
            "Requirement already satisfied: gast>=0.2.1 in /usr/local/lib/python3.7/dist-packages (from tensorflow-gpu) (0.5.3)\n",
            "Requirement already satisfied: grpcio<2.0,>=1.24.3 in /usr/local/lib/python3.7/dist-packages (from tensorflow-gpu) (1.44.0)\n",
            "Requirement already satisfied: keras<2.9,>=2.8.0rc0 in /usr/local/lib/python3.7/dist-packages (from tensorflow-gpu) (2.8.0)\n",
            "Requirement already satisfied: wrapt>=1.11.0 in /usr/local/lib/python3.7/dist-packages (from tensorflow-gpu) (1.14.0)\n",
            "Requirement already satisfied: numpy>=1.20 in /usr/local/lib/python3.7/dist-packages (from tensorflow-gpu) (1.21.5)\n",
            "Collecting tf-estimator-nightly==2.8.0.dev2021122109\n",
            "  Downloading tf_estimator_nightly-2.8.0.dev2021122109-py2.py3-none-any.whl (462 kB)\n",
            "\u001b[K     |████████████████████████████████| 462 kB 65.4 MB/s \n",
            "\u001b[?25hRequirement already satisfied: keras-preprocessing>=1.1.1 in /usr/local/lib/python3.7/dist-packages (from tensorflow-gpu) (1.1.2)\n",
            "Requirement already satisfied: wheel<1.0,>=0.23.0 in /usr/local/lib/python3.7/dist-packages (from astunparse>=1.6.0->tensorflow-gpu) (0.37.1)\n",
            "Requirement already satisfied: cached-property in /usr/local/lib/python3.7/dist-packages (from h5py>=2.9.0->tensorflow-gpu) (1.5.2)\n",
            "Requirement already satisfied: werkzeug>=0.11.15 in /usr/local/lib/python3.7/dist-packages (from tensorboard<2.9,>=2.8->tensorflow-gpu) (1.0.1)\n",
            "Requirement already satisfied: tensorboard-plugin-wit>=1.6.0 in /usr/local/lib/python3.7/dist-packages (from tensorboard<2.9,>=2.8->tensorflow-gpu) (1.8.1)\n",
            "Requirement already satisfied: google-auth<3,>=1.6.3 in /usr/local/lib/python3.7/dist-packages (from tensorboard<2.9,>=2.8->tensorflow-gpu) (1.35.0)\n",
            "Requirement already satisfied: google-auth-oauthlib<0.5,>=0.4.1 in /usr/local/lib/python3.7/dist-packages (from tensorboard<2.9,>=2.8->tensorflow-gpu) (0.4.6)\n",
            "Requirement already satisfied: markdown>=2.6.8 in /usr/local/lib/python3.7/dist-packages (from tensorboard<2.9,>=2.8->tensorflow-gpu) (3.3.6)\n",
            "Requirement already satisfied: tensorboard-data-server<0.7.0,>=0.6.0 in /usr/local/lib/python3.7/dist-packages (from tensorboard<2.9,>=2.8->tensorflow-gpu) (0.6.1)\n",
            "Requirement already satisfied: requests<3,>=2.21.0 in /usr/local/lib/python3.7/dist-packages (from tensorboard<2.9,>=2.8->tensorflow-gpu) (2.23.0)\n",
            "Requirement already satisfied: rsa<5,>=3.1.4 in /usr/local/lib/python3.7/dist-packages (from google-auth<3,>=1.6.3->tensorboard<2.9,>=2.8->tensorflow-gpu) (4.8)\n",
            "Requirement already satisfied: pyasn1-modules>=0.2.1 in /usr/local/lib/python3.7/dist-packages (from google-auth<3,>=1.6.3->tensorboard<2.9,>=2.8->tensorflow-gpu) (0.2.8)\n",
            "Requirement already satisfied: cachetools<5.0,>=2.0.0 in /usr/local/lib/python3.7/dist-packages (from google-auth<3,>=1.6.3->tensorboard<2.9,>=2.8->tensorflow-gpu) (4.2.4)\n",
            "Requirement already satisfied: requests-oauthlib>=0.7.0 in /usr/local/lib/python3.7/dist-packages (from google-auth-oauthlib<0.5,>=0.4.1->tensorboard<2.9,>=2.8->tensorflow-gpu) (1.3.1)\n",
            "Requirement already satisfied: importlib-metadata>=4.4 in /usr/local/lib/python3.7/dist-packages (from markdown>=2.6.8->tensorboard<2.9,>=2.8->tensorflow-gpu) (4.11.3)\n",
            "Requirement already satisfied: zipp>=0.5 in /usr/local/lib/python3.7/dist-packages (from importlib-metadata>=4.4->markdown>=2.6.8->tensorboard<2.9,>=2.8->tensorflow-gpu) (3.8.0)\n",
            "Requirement already satisfied: pyasn1<0.5.0,>=0.4.6 in /usr/local/lib/python3.7/dist-packages (from pyasn1-modules>=0.2.1->google-auth<3,>=1.6.3->tensorboard<2.9,>=2.8->tensorflow-gpu) (0.4.8)\n",
            "Requirement already satisfied: urllib3!=1.25.0,!=1.25.1,<1.26,>=1.21.1 in /usr/local/lib/python3.7/dist-packages (from requests<3,>=2.21.0->tensorboard<2.9,>=2.8->tensorflow-gpu) (1.24.3)\n",
            "Requirement already satisfied: idna<3,>=2.5 in /usr/local/lib/python3.7/dist-packages (from requests<3,>=2.21.0->tensorboard<2.9,>=2.8->tensorflow-gpu) (2.10)\n",
            "Requirement already satisfied: certifi>=2017.4.17 in /usr/local/lib/python3.7/dist-packages (from requests<3,>=2.21.0->tensorboard<2.9,>=2.8->tensorflow-gpu) (2021.10.8)\n",
            "Requirement already satisfied: chardet<4,>=3.0.2 in /usr/local/lib/python3.7/dist-packages (from requests<3,>=2.21.0->tensorboard<2.9,>=2.8->tensorflow-gpu) (3.0.4)\n",
            "Requirement already satisfied: oauthlib>=3.0.0 in /usr/local/lib/python3.7/dist-packages (from requests-oauthlib>=0.7.0->google-auth-oauthlib<0.5,>=0.4.1->tensorboard<2.9,>=2.8->tensorflow-gpu) (3.2.0)\n",
            "Installing collected packages: tf-estimator-nightly, tensorflow-gpu\n",
            "Successfully installed tensorflow-gpu-2.8.0 tf-estimator-nightly-2.8.0.dev2021122109\n"
          ]
        }
      ],
      "source": [
        "!pip install tensorflow-gpu"
      ]
    },
    {
      "cell_type": "code",
      "execution_count": null,
      "metadata": {
        "colab": {
          "base_uri": "https://localhost:8080/"
        },
        "id": "D3nIZlwOrXmI",
        "outputId": "65ba64ca-b3fe-4dba-9b2b-af18fbee5da7"
      },
      "outputs": [
        {
          "output_type": "stream",
          "name": "stdout",
          "text": [
            "WARNING:tensorflow:From /usr/local/lib/python3.7/dist-packages/tensorflow/python/compat/v2_compat.py:107: disable_resource_variables (from tensorflow.python.ops.variable_scope) is deprecated and will be removed in a future version.\n",
            "Instructions for updating:\n",
            "non-resource variables are not supported in the long term\n"
          ]
        }
      ],
      "source": [
        "import nltk\n",
        "from nltk.stem.lancaster import LancasterStemmer\n",
        "stemmer = LancasterStemmer()\n",
        "\n",
        "import numpy as np\n",
        "import tflearn\n",
        "import tensorflow as tf\n",
        "import random"
      ]
    },
    {
      "cell_type": "code",
      "execution_count": null,
      "metadata": {
        "id": "J6GZpMGdt8kN"
      },
      "outputs": [],
      "source": [
        "import json\n",
        "with open('/content/drive/MyDrive/simple_chat_bot/intents.json') as json_data:\n",
        "  intents = json.load(json_data) #load data"
      ]
    },
    {
      "cell_type": "code",
      "execution_count": null,
      "metadata": {
        "colab": {
          "base_uri": "https://localhost:8080/"
        },
        "id": "nOterri2vFZJ",
        "outputId": "969a9af8-351e-426e-b14d-3a83855bf243"
      },
      "outputs": [
        {
          "output_type": "stream",
          "name": "stdout",
          "text": [
            "{'intents': [{'tag': 'greeting', 'patterns': ['Hi', 'How are you', 'Is anyone there?', 'Hello', 'Good day', 'Whats up'], 'responses': ['Hello!', 'Good to see you again!', 'Hi there, how can I help?'], 'context_set': ''}, {'tag': 'goodbye', 'patterns': ['cya', 'See you later', 'Goodbye', 'I am Leaving', 'Have a Good day'], 'responses': ['Sad to see you go :(', 'Talk to you later', 'Goodbye!'], 'context_set': ''}, {'tag': 'age', 'patterns': ['how old', 'how old is tim', 'what is your age', 'how old are you', 'age?'], 'responses': ['Tim is 5 Years old', 'My owner Saba is 20 years old!', '5 years young!'], 'context_set': ''}, {'tag': 'name', 'patterns': ['what is your name', 'what should I call you', 'whats your name?'], 'responses': ['You can call me Jim.', \"I'm Jim!\", \"I'm Jim the assistant of Saba.\"], 'context_set': ''}, {'tag': 'shop', 'patterns': ['what is the shops name', 'where is the shop?', 'whats on the menu', 'what do you reccommend?', 'could i get something to eat'], 'responses': ['Shop name is Willy Wonkas Confectionary', 'The shop is on 108 Backers Street', 'We sell chocolate chip cookies for $2!', 'Cookies are on the menu!'], 'context_set': ''}, {'tag': 'hours', 'patterns': ['Do you have homedelivery?', 'what are your hours', 'hours of operation'], 'responses': ['Yes we provide home delivery services', 'We are open 7am-4pm Monday-Friday!'], 'context_set': ''}, {'tag': 'hobbies', 'patterns': ['what are your hobbies?', 'what do you like?', 'which cookies do you like?'], 'responses': ['I like eating cookies', 'I like eating our special Moroccan choco chip cookie']}]}\n"
          ]
        }
      ],
      "source": [
        "print(intents)"
      ]
    },
    {
      "cell_type": "code",
      "execution_count": null,
      "metadata": {
        "colab": {
          "base_uri": "https://localhost:8080/"
        },
        "id": "lNk8b1lDvf5j",
        "outputId": "6c594682-eb18-4803-e5fd-d383b23d4109"
      },
      "outputs": [
        {
          "output_type": "stream",
          "name": "stdout",
          "text": [
            "[nltk_data] Downloading package punkt to /root/nltk_data...\n",
            "[nltk_data]   Unzipping tokenizers/punkt.zip.\n"
          ]
        },
        {
          "output_type": "execute_result",
          "data": {
            "text/plain": [
              "True"
            ]
          },
          "metadata": {},
          "execution_count": 7
        }
      ],
      "source": [
        "import nltk\n",
        "nltk.download('punkt') #download punkt"
      ]
    },
    {
      "cell_type": "code",
      "execution_count": null,
      "metadata": {
        "id": "qB0oaFoRzKLI"
      },
      "outputs": [],
      "source": [
        "import pickle"
      ]
    },
    {
      "cell_type": "code",
      "execution_count": null,
      "metadata": {
        "colab": {
          "base_uri": "https://localhost:8080/"
        },
        "id": "t6MjkkZfvoX-",
        "outputId": "220d60da-cb22-4bf9-a9ea-576ad4d48b0a"
      },
      "outputs": [
        {
          "output_type": "stream",
          "name": "stdout",
          "text": [
            "[nltk_data] Downloading package punkt to /root/nltk_data...\n",
            "[nltk_data]   Package punkt is already up-to-date!\n",
            "[nltk_data] Downloading package wordnet to /root/nltk_data...\n",
            "[nltk_data]   Unzipping corpora/wordnet.zip.\n"
          ]
        }
      ],
      "source": [
        "import nltk\n",
        "nltk.download('punkt')\n",
        "nltk.download('wordnet')\n",
        "from nltk.stem import WordNetLemmatizer"
      ]
    },
    {
      "cell_type": "code",
      "execution_count": null,
      "metadata": {
        "id": "ruCuBQX0xPIn"
      },
      "outputs": [],
      "source": [
        "from tensorflow.keras.models import Sequential\n",
        "from tensorflow.keras.layers import Dense, Activation, Dropout\n",
        "from tensorflow.keras.optimizers import SGD"
      ]
    },
    {
      "cell_type": "code",
      "execution_count": null,
      "metadata": {
        "id": "Tp_Qs6klyEDf"
      },
      "outputs": [],
      "source": [
        "lemmatizer = WordNetLemmatizer()"
      ]
    },
    {
      "cell_type": "code",
      "execution_count": null,
      "metadata": {
        "id": "3dZuIAI9yFzq"
      },
      "outputs": [],
      "source": [
        "intents = json.loads(open('/content/drive/MyDrive/simple_chat_bot/intents.json').read())\n"
      ]
    },
    {
      "cell_type": "code",
      "execution_count": null,
      "metadata": {
        "id": "osI3XGOpySNv"
      },
      "outputs": [],
      "source": [
        "words = []\n",
        "classes = []\n",
        "documents = []\n",
        "ignore_letters = ['?', '!', '.', ',']\n",
        "\n",
        "for intent in intents['intents']:\n",
        "    for pattern in intent['patterns']:\n",
        "        word_list = nltk.word_tokenize(pattern)\n",
        "        words.extend(word_list)\n",
        "        documents.append((word_list, intent['tag']))\n",
        "        if intent['tag'] not in classes:\n",
        "            classes.append(intent['tag'])\n",
        "             \n",
        "words = [lemmatizer.lemmatize(word) for word in words if word not in ignore_letters]\n",
        "words = sorted(set(words))\n",
        "\n",
        "classes = sorted(set(classes))\n",
        "\n",
        "pickle.dump(words, open('/content/drive/MyDrive/simple_chat_bot/words.pkl', 'wb'))\n",
        "pickle.dump(classes, open('/content/drive/MyDrive/simple_chat_bot/classes.pkl', 'wb'))\n"
      ]
    },
    {
      "cell_type": "code",
      "execution_count": null,
      "metadata": {
        "colab": {
          "base_uri": "https://localhost:8080/"
        },
        "id": "PaeOAxDUy-EW",
        "outputId": "cb2d7b7a-7af5-4b36-a6e5-db7c83e02345"
      },
      "outputs": [
        {
          "output_type": "stream",
          "name": "stderr",
          "text": [
            "/usr/local/lib/python3.7/dist-packages/ipykernel_launcher.py:16: VisibleDeprecationWarning: Creating an ndarray from ragged nested sequences (which is a list-or-tuple of lists-or-tuples-or ndarrays with different lengths or shapes) is deprecated. If you meant to do this, you must specify 'dtype=object' when creating the ndarray.\n",
            "  app.launch_new_instance()\n"
          ]
        }
      ],
      "source": [
        "training = []\n",
        "output_empty = [0] *len(classes)\n",
        "\n",
        "for document in documents:\n",
        "    bag = []\n",
        "    word_patterns = document[0]\n",
        "    word_patterns = [lemmatizer.lemmatize(word.lower()) for word in word_patterns]\n",
        "    for word in words:\n",
        "        bag.append(1) if word in word_patterns else bag.append(0)\n",
        "\n",
        "    output_row = list(output_empty)\n",
        "    output_row[classes.index(document[1])] = 1\n",
        "    training.append([bag, output_row])\n",
        "\n",
        "random.shuffle(training)\n",
        "training = np.array(training)\n",
        "\n",
        "train_x = list(training[:, 0])\n",
        "train_y = list(training[:, 1])\n"
      ]
    },
    {
      "cell_type": "code",
      "execution_count": null,
      "metadata": {
        "colab": {
          "base_uri": "https://localhost:8080/"
        },
        "id": "lto504eWywdj",
        "outputId": "1d71afd0-53d3-4db1-a87a-80e7d37f347e"
      },
      "outputs": [
        {
          "output_type": "stream",
          "name": "stdout",
          "text": [
            "Train on 30 samples\n"
          ]
        },
        {
          "output_type": "stream",
          "name": "stderr",
          "text": [
            "/usr/local/lib/python3.7/dist-packages/keras/optimizer_v2/gradient_descent.py:102: UserWarning: The `lr` argument is deprecated, use `learning_rate` instead.\n",
            "  super(SGD, self).__init__(name, **kwargs)\n"
          ]
        },
        {
          "output_type": "stream",
          "name": "stdout",
          "text": [
            "Epoch 1/200\n",
            "30/30 [==============================] - 2s 52ms/sample - loss: 1.9930 - acc: 0.1000\n",
            "Epoch 2/200\n",
            "30/30 [==============================] - 0s 548us/sample - loss: 1.9457 - acc: 0.1333\n",
            "Epoch 3/200\n",
            "30/30 [==============================] - 0s 541us/sample - loss: 1.9179 - acc: 0.2000\n",
            "Epoch 4/200\n",
            "30/30 [==============================] - 0s 516us/sample - loss: 1.8551 - acc: 0.3667\n",
            "Epoch 5/200\n",
            "30/30 [==============================] - 0s 547us/sample - loss: 1.7987 - acc: 0.4333\n",
            "Epoch 6/200\n",
            "30/30 [==============================] - 0s 540us/sample - loss: 1.7939 - acc: 0.3000\n",
            "Epoch 7/200\n",
            "30/30 [==============================] - 0s 539us/sample - loss: 1.7392 - acc: 0.4333\n",
            "Epoch 8/200\n",
            "30/30 [==============================] - 0s 593us/sample - loss: 1.6860 - acc: 0.5667\n",
            "Epoch 9/200\n",
            "30/30 [==============================] - 0s 529us/sample - loss: 1.6179 - acc: 0.4667\n",
            "Epoch 10/200\n",
            "30/30 [==============================] - 0s 553us/sample - loss: 1.5481 - acc: 0.6000\n",
            "Epoch 11/200\n",
            "30/30 [==============================] - 0s 562us/sample - loss: 1.4974 - acc: 0.5333\n",
            "Epoch 12/200\n",
            "30/30 [==============================] - 0s 533us/sample - loss: 1.3301 - acc: 0.6667\n",
            "Epoch 13/200\n",
            "30/30 [==============================] - 0s 835us/sample - loss: 1.3439 - acc: 0.6667\n",
            "Epoch 14/200\n",
            "30/30 [==============================] - 0s 632us/sample - loss: 1.2442 - acc: 0.8000\n",
            "Epoch 15/200\n",
            "30/30 [==============================] - 0s 518us/sample - loss: 1.1215 - acc: 0.8333\n",
            "Epoch 16/200\n",
            "30/30 [==============================] - 0s 584us/sample - loss: 1.0140 - acc: 0.8667\n",
            "Epoch 17/200\n",
            "30/30 [==============================] - 0s 523us/sample - loss: 0.9743 - acc: 0.8333\n",
            "Epoch 18/200\n",
            "30/30 [==============================] - 0s 592us/sample - loss: 0.8172 - acc: 0.9000\n",
            "Epoch 19/200\n",
            "30/30 [==============================] - 0s 556us/sample - loss: 0.8308 - acc: 0.9000\n",
            "Epoch 20/200\n",
            "30/30 [==============================] - 0s 531us/sample - loss: 0.7841 - acc: 0.8333\n",
            "Epoch 21/200\n",
            "30/30 [==============================] - 0s 560us/sample - loss: 0.6836 - acc: 0.8333\n",
            "Epoch 22/200\n",
            "30/30 [==============================] - 0s 546us/sample - loss: 0.5714 - acc: 0.9667\n",
            "Epoch 23/200\n",
            "30/30 [==============================] - 0s 535us/sample - loss: 0.4968 - acc: 0.9333\n",
            "Epoch 24/200\n",
            "30/30 [==============================] - 0s 550us/sample - loss: 0.5287 - acc: 0.9000\n",
            "Epoch 25/200\n",
            "30/30 [==============================] - 0s 515us/sample - loss: 0.4572 - acc: 0.8667\n",
            "Epoch 26/200\n",
            "30/30 [==============================] - 0s 547us/sample - loss: 0.3875 - acc: 0.9667\n",
            "Epoch 27/200\n",
            "30/30 [==============================] - 0s 614us/sample - loss: 0.3976 - acc: 0.9000\n",
            "Epoch 28/200\n",
            "30/30 [==============================] - 0s 571us/sample - loss: 0.4066 - acc: 0.9000\n",
            "Epoch 29/200\n",
            "30/30 [==============================] - 0s 579us/sample - loss: 0.3695 - acc: 0.9667\n",
            "Epoch 30/200\n",
            "30/30 [==============================] - 0s 593us/sample - loss: 0.3044 - acc: 0.9333\n",
            "Epoch 31/200\n",
            "30/30 [==============================] - 0s 518us/sample - loss: 0.3438 - acc: 0.8667\n",
            "Epoch 32/200\n",
            "30/30 [==============================] - 0s 536us/sample - loss: 0.3169 - acc: 0.9000\n",
            "Epoch 33/200\n",
            "30/30 [==============================] - 0s 537us/sample - loss: 0.3287 - acc: 0.8667\n",
            "Epoch 34/200\n",
            "30/30 [==============================] - 0s 553us/sample - loss: 0.2482 - acc: 0.9333\n",
            "Epoch 35/200\n",
            "30/30 [==============================] - 0s 565us/sample - loss: 0.2277 - acc: 0.9667\n",
            "Epoch 36/200\n",
            "30/30 [==============================] - 0s 553us/sample - loss: 0.2819 - acc: 0.8667\n",
            "Epoch 37/200\n",
            "30/30 [==============================] - 0s 530us/sample - loss: 0.1755 - acc: 0.9667\n",
            "Epoch 38/200\n",
            "30/30 [==============================] - 0s 535us/sample - loss: 0.1974 - acc: 0.9667\n",
            "Epoch 39/200\n",
            "30/30 [==============================] - 0s 675us/sample - loss: 0.2110 - acc: 0.9667\n",
            "Epoch 40/200\n",
            "30/30 [==============================] - 0s 608us/sample - loss: 0.2543 - acc: 0.9333\n",
            "Epoch 41/200\n",
            "30/30 [==============================] - 0s 576us/sample - loss: 0.1920 - acc: 0.9333\n",
            "Epoch 42/200\n",
            "30/30 [==============================] - 0s 555us/sample - loss: 0.1625 - acc: 0.9333\n",
            "Epoch 43/200\n",
            "30/30 [==============================] - 0s 695us/sample - loss: 0.1808 - acc: 0.9667\n",
            "Epoch 44/200\n",
            "30/30 [==============================] - 0s 551us/sample - loss: 0.1555 - acc: 1.0000\n",
            "Epoch 45/200\n",
            "30/30 [==============================] - 0s 537us/sample - loss: 0.1275 - acc: 0.9667\n",
            "Epoch 46/200\n",
            "30/30 [==============================] - 0s 530us/sample - loss: 0.1163 - acc: 0.9667\n",
            "Epoch 47/200\n",
            "30/30 [==============================] - 0s 608us/sample - loss: 0.1825 - acc: 0.9333\n",
            "Epoch 48/200\n",
            "30/30 [==============================] - 0s 571us/sample - loss: 0.1147 - acc: 0.9667\n",
            "Epoch 49/200\n",
            "30/30 [==============================] - 0s 541us/sample - loss: 0.1314 - acc: 0.9667\n",
            "Epoch 50/200\n",
            "30/30 [==============================] - 0s 608us/sample - loss: 0.1906 - acc: 0.9333\n",
            "Epoch 51/200\n",
            "30/30 [==============================] - 0s 552us/sample - loss: 0.1246 - acc: 0.9667\n",
            "Epoch 52/200\n",
            "30/30 [==============================] - 0s 547us/sample - loss: 0.1117 - acc: 0.9333\n",
            "Epoch 53/200\n",
            "30/30 [==============================] - 0s 544us/sample - loss: 0.1019 - acc: 0.9667\n",
            "Epoch 54/200\n",
            "30/30 [==============================] - 0s 549us/sample - loss: 0.1195 - acc: 0.9333\n",
            "Epoch 55/200\n",
            "30/30 [==============================] - 0s 556us/sample - loss: 0.1270 - acc: 0.9667\n",
            "Epoch 56/200\n",
            "30/30 [==============================] - 0s 572us/sample - loss: 0.1403 - acc: 0.9333\n",
            "Epoch 57/200\n",
            "30/30 [==============================] - 0s 540us/sample - loss: 0.1183 - acc: 0.9333\n",
            "Epoch 58/200\n",
            "30/30 [==============================] - 0s 572us/sample - loss: 0.0975 - acc: 0.9333\n",
            "Epoch 59/200\n",
            "30/30 [==============================] - 0s 579us/sample - loss: 0.1300 - acc: 0.9667\n",
            "Epoch 60/200\n",
            "30/30 [==============================] - 0s 691us/sample - loss: 0.1520 - acc: 0.9000\n",
            "Epoch 61/200\n",
            "30/30 [==============================] - 0s 545us/sample - loss: 0.1374 - acc: 0.9667\n",
            "Epoch 62/200\n",
            "30/30 [==============================] - 0s 654us/sample - loss: 0.1101 - acc: 0.9667\n",
            "Epoch 63/200\n",
            "30/30 [==============================] - 0s 551us/sample - loss: 0.0962 - acc: 1.0000\n",
            "Epoch 64/200\n",
            "30/30 [==============================] - 0s 553us/sample - loss: 0.1310 - acc: 0.9667\n",
            "Epoch 65/200\n",
            "30/30 [==============================] - 0s 547us/sample - loss: 0.1232 - acc: 0.9667\n",
            "Epoch 66/200\n",
            "30/30 [==============================] - 0s 608us/sample - loss: 0.0780 - acc: 1.0000\n",
            "Epoch 67/200\n",
            "30/30 [==============================] - 0s 553us/sample - loss: 0.1262 - acc: 1.0000\n",
            "Epoch 68/200\n",
            "30/30 [==============================] - 0s 528us/sample - loss: 0.1280 - acc: 0.9667\n",
            "Epoch 69/200\n",
            "30/30 [==============================] - 0s 517us/sample - loss: 0.1513 - acc: 0.9333\n",
            "Epoch 70/200\n",
            "30/30 [==============================] - 0s 530us/sample - loss: 0.0851 - acc: 0.9667\n",
            "Epoch 71/200\n",
            "30/30 [==============================] - 0s 538us/sample - loss: 0.1187 - acc: 0.9667\n",
            "Epoch 72/200\n",
            "30/30 [==============================] - 0s 617us/sample - loss: 0.0554 - acc: 1.0000\n",
            "Epoch 73/200\n",
            "30/30 [==============================] - 0s 530us/sample - loss: 0.1576 - acc: 0.9333\n",
            "Epoch 74/200\n",
            "30/30 [==============================] - 0s 701us/sample - loss: 0.1036 - acc: 0.9667\n",
            "Epoch 75/200\n",
            "30/30 [==============================] - 0s 529us/sample - loss: 0.0806 - acc: 1.0000\n",
            "Epoch 76/200\n",
            "30/30 [==============================] - 0s 616us/sample - loss: 0.0992 - acc: 0.9333\n",
            "Epoch 77/200\n",
            "30/30 [==============================] - 0s 537us/sample - loss: 0.0874 - acc: 0.9667\n",
            "Epoch 78/200\n",
            "30/30 [==============================] - 0s 545us/sample - loss: 0.1002 - acc: 0.9667\n",
            "Epoch 79/200\n",
            "30/30 [==============================] - 0s 567us/sample - loss: 0.1414 - acc: 0.9667\n",
            "Epoch 80/200\n",
            "30/30 [==============================] - 0s 1ms/sample - loss: 0.1219 - acc: 0.9667\n",
            "Epoch 81/200\n",
            "30/30 [==============================] - 0s 549us/sample - loss: 0.0895 - acc: 0.9667\n",
            "Epoch 82/200\n",
            "30/30 [==============================] - 0s 551us/sample - loss: 0.0829 - acc: 0.9667\n",
            "Epoch 83/200\n",
            "30/30 [==============================] - 0s 556us/sample - loss: 0.0736 - acc: 1.0000\n",
            "Epoch 84/200\n",
            "30/30 [==============================] - 0s 537us/sample - loss: 0.1095 - acc: 0.9333\n",
            "Epoch 85/200\n",
            "30/30 [==============================] - 0s 606us/sample - loss: 0.1265 - acc: 0.9333\n",
            "Epoch 86/200\n",
            "30/30 [==============================] - 0s 587us/sample - loss: 0.0822 - acc: 0.9667\n",
            "Epoch 87/200\n",
            "30/30 [==============================] - 0s 546us/sample - loss: 0.1293 - acc: 0.9667\n",
            "Epoch 88/200\n",
            "30/30 [==============================] - 0s 569us/sample - loss: 0.1251 - acc: 0.9333\n",
            "Epoch 89/200\n",
            "30/30 [==============================] - 0s 566us/sample - loss: 0.0963 - acc: 0.9333\n",
            "Epoch 90/200\n",
            "30/30 [==============================] - 0s 557us/sample - loss: 0.1167 - acc: 0.9667\n",
            "Epoch 91/200\n",
            "30/30 [==============================] - 0s 574us/sample - loss: 0.0974 - acc: 0.9333\n",
            "Epoch 92/200\n",
            "30/30 [==============================] - 0s 548us/sample - loss: 0.0652 - acc: 0.9667\n",
            "Epoch 93/200\n",
            "30/30 [==============================] - 0s 557us/sample - loss: 0.1364 - acc: 0.9000\n",
            "Epoch 94/200\n",
            "30/30 [==============================] - 0s 611us/sample - loss: 0.1076 - acc: 0.9667\n",
            "Epoch 95/200\n",
            "30/30 [==============================] - 0s 550us/sample - loss: 0.1483 - acc: 0.9000\n",
            "Epoch 96/200\n",
            "30/30 [==============================] - 0s 564us/sample - loss: 0.0830 - acc: 0.9667\n",
            "Epoch 97/200\n",
            "30/30 [==============================] - 0s 546us/sample - loss: 0.0883 - acc: 0.9667\n",
            "Epoch 98/200\n",
            "30/30 [==============================] - 0s 608us/sample - loss: 0.1168 - acc: 0.9333\n",
            "Epoch 99/200\n",
            "30/30 [==============================] - 0s 583us/sample - loss: 0.1009 - acc: 0.9667\n",
            "Epoch 100/200\n",
            "30/30 [==============================] - 0s 587us/sample - loss: 0.1114 - acc: 0.9667\n",
            "Epoch 101/200\n",
            "30/30 [==============================] - 0s 646us/sample - loss: 0.1074 - acc: 0.9667\n",
            "Epoch 102/200\n",
            "30/30 [==============================] - 0s 619us/sample - loss: 0.1406 - acc: 0.9667\n",
            "Epoch 103/200\n",
            "30/30 [==============================] - 0s 593us/sample - loss: 0.1218 - acc: 0.9667\n",
            "Epoch 104/200\n",
            "30/30 [==============================] - 0s 601us/sample - loss: 0.1205 - acc: 0.9000\n",
            "Epoch 105/200\n",
            "30/30 [==============================] - 0s 658us/sample - loss: 0.0847 - acc: 0.9667\n",
            "Epoch 106/200\n",
            "30/30 [==============================] - 0s 568us/sample - loss: 0.1017 - acc: 0.9667\n",
            "Epoch 107/200\n",
            "30/30 [==============================] - 0s 582us/sample - loss: 0.1876 - acc: 0.9333\n",
            "Epoch 108/200\n",
            "30/30 [==============================] - 0s 567us/sample - loss: 0.0992 - acc: 0.9667\n",
            "Epoch 109/200\n",
            "30/30 [==============================] - 0s 721us/sample - loss: 0.1021 - acc: 0.9667\n",
            "Epoch 110/200\n",
            "30/30 [==============================] - 0s 551us/sample - loss: 0.1219 - acc: 0.9333\n",
            "Epoch 111/200\n",
            "30/30 [==============================] - 0s 581us/sample - loss: 0.1039 - acc: 0.9333\n",
            "Epoch 112/200\n",
            "30/30 [==============================] - 0s 530us/sample - loss: 0.1009 - acc: 0.9667\n",
            "Epoch 113/200\n",
            "30/30 [==============================] - 0s 658us/sample - loss: 0.0514 - acc: 0.9667\n",
            "Epoch 114/200\n",
            "30/30 [==============================] - 0s 998us/sample - loss: 0.0771 - acc: 0.9667\n",
            "Epoch 115/200\n",
            "30/30 [==============================] - 0s 554us/sample - loss: 0.1057 - acc: 0.9667\n",
            "Epoch 116/200\n",
            "30/30 [==============================] - 0s 570us/sample - loss: 0.0750 - acc: 0.9667\n",
            "Epoch 117/200\n",
            "30/30 [==============================] - 0s 552us/sample - loss: 0.1121 - acc: 0.9667\n",
            "Epoch 118/200\n",
            "30/30 [==============================] - 0s 537us/sample - loss: 0.0800 - acc: 0.9667\n",
            "Epoch 119/200\n",
            "30/30 [==============================] - 0s 590us/sample - loss: 0.1712 - acc: 0.8667\n",
            "Epoch 120/200\n",
            "30/30 [==============================] - 0s 589us/sample - loss: 0.0857 - acc: 0.9667\n",
            "Epoch 121/200\n",
            "30/30 [==============================] - 0s 647us/sample - loss: 0.0715 - acc: 0.9667\n",
            "Epoch 122/200\n",
            "30/30 [==============================] - 0s 588us/sample - loss: 0.0802 - acc: 0.9667\n",
            "Epoch 123/200\n",
            "30/30 [==============================] - 0s 573us/sample - loss: 0.1181 - acc: 0.9667\n",
            "Epoch 124/200\n",
            "30/30 [==============================] - 0s 547us/sample - loss: 0.0839 - acc: 0.9667\n",
            "Epoch 125/200\n",
            "30/30 [==============================] - 0s 635us/sample - loss: 0.0794 - acc: 0.9667\n",
            "Epoch 126/200\n",
            "30/30 [==============================] - 0s 572us/sample - loss: 0.0748 - acc: 0.9667\n",
            "Epoch 127/200\n",
            "30/30 [==============================] - 0s 619us/sample - loss: 0.1100 - acc: 0.9333\n",
            "Epoch 128/200\n",
            "30/30 [==============================] - 0s 561us/sample - loss: 0.0843 - acc: 0.9667\n",
            "Epoch 129/200\n",
            "30/30 [==============================] - 0s 586us/sample - loss: 0.1151 - acc: 0.9333\n",
            "Epoch 130/200\n",
            "30/30 [==============================] - 0s 555us/sample - loss: 0.1242 - acc: 0.9333\n",
            "Epoch 131/200\n",
            "30/30 [==============================] - 0s 595us/sample - loss: 0.0695 - acc: 0.9667\n",
            "Epoch 132/200\n",
            "30/30 [==============================] - 0s 764us/sample - loss: 0.0824 - acc: 0.9667\n",
            "Epoch 133/200\n",
            "30/30 [==============================] - 0s 589us/sample - loss: 0.0797 - acc: 0.9667\n",
            "Epoch 134/200\n",
            "30/30 [==============================] - 0s 575us/sample - loss: 0.0858 - acc: 0.9667\n",
            "Epoch 135/200\n",
            "30/30 [==============================] - 0s 555us/sample - loss: 0.0942 - acc: 0.9667\n",
            "Epoch 136/200\n",
            "30/30 [==============================] - 0s 590us/sample - loss: 0.0784 - acc: 0.9667\n",
            "Epoch 137/200\n",
            "30/30 [==============================] - 0s 565us/sample - loss: 0.0750 - acc: 0.9667\n",
            "Epoch 138/200\n",
            "30/30 [==============================] - 0s 569us/sample - loss: 0.1350 - acc: 0.9333\n",
            "Epoch 139/200\n",
            "30/30 [==============================] - 0s 664us/sample - loss: 0.1052 - acc: 0.9667\n",
            "Epoch 140/200\n",
            "30/30 [==============================] - 0s 578us/sample - loss: 0.0527 - acc: 0.9667\n",
            "Epoch 141/200\n",
            "30/30 [==============================] - 0s 552us/sample - loss: 0.0960 - acc: 0.9333\n",
            "Epoch 142/200\n",
            "30/30 [==============================] - 0s 570us/sample - loss: 0.0892 - acc: 0.9333\n",
            "Epoch 143/200\n",
            "30/30 [==============================] - 0s 883us/sample - loss: 0.0689 - acc: 0.9667\n",
            "Epoch 144/200\n",
            "30/30 [==============================] - 0s 530us/sample - loss: 0.0759 - acc: 0.9667\n",
            "Epoch 145/200\n",
            "30/30 [==============================] - 0s 556us/sample - loss: 0.0897 - acc: 0.9667\n",
            "Epoch 146/200\n",
            "30/30 [==============================] - 0s 610us/sample - loss: 0.0829 - acc: 0.9667\n",
            "Epoch 147/200\n",
            "30/30 [==============================] - 0s 580us/sample - loss: 0.0637 - acc: 0.9667\n",
            "Epoch 148/200\n",
            "30/30 [==============================] - 0s 578us/sample - loss: 0.0935 - acc: 0.9667\n",
            "Epoch 149/200\n",
            "30/30 [==============================] - 0s 562us/sample - loss: 0.1117 - acc: 0.9667\n",
            "Epoch 150/200\n",
            "30/30 [==============================] - 0s 628us/sample - loss: 0.0781 - acc: 0.9333\n",
            "Epoch 151/200\n",
            "30/30 [==============================] - 0s 595us/sample - loss: 0.1067 - acc: 0.9333\n",
            "Epoch 152/200\n",
            "30/30 [==============================] - 0s 618us/sample - loss: 0.0738 - acc: 0.9667\n",
            "Epoch 153/200\n",
            "30/30 [==============================] - 0s 631us/sample - loss: 0.0990 - acc: 0.9667\n",
            "Epoch 154/200\n",
            "30/30 [==============================] - 0s 827us/sample - loss: 0.0679 - acc: 0.9667\n",
            "Epoch 155/200\n",
            "30/30 [==============================] - 0s 572us/sample - loss: 0.1049 - acc: 0.9667\n",
            "Epoch 156/200\n",
            "30/30 [==============================] - 0s 558us/sample - loss: 0.0760 - acc: 0.9667\n",
            "Epoch 157/200\n",
            "30/30 [==============================] - 0s 575us/sample - loss: 0.0718 - acc: 0.9667\n",
            "Epoch 158/200\n",
            "30/30 [==============================] - 0s 572us/sample - loss: 0.0971 - acc: 0.9333\n",
            "Epoch 159/200\n",
            "30/30 [==============================] - 0s 574us/sample - loss: 0.1104 - acc: 0.9333\n",
            "Epoch 160/200\n",
            "30/30 [==============================] - 0s 593us/sample - loss: 0.1276 - acc: 0.9667\n",
            "Epoch 161/200\n",
            "30/30 [==============================] - 0s 582us/sample - loss: 0.1024 - acc: 0.9333\n",
            "Epoch 162/200\n",
            "30/30 [==============================] - 0s 570us/sample - loss: 0.1221 - acc: 0.9333\n",
            "Epoch 163/200\n",
            "30/30 [==============================] - 0s 581us/sample - loss: 0.1077 - acc: 0.9667\n",
            "Epoch 164/200\n",
            "30/30 [==============================] - 0s 627us/sample - loss: 0.0691 - acc: 0.9667\n",
            "Epoch 165/200\n",
            "30/30 [==============================] - 0s 566us/sample - loss: 0.0770 - acc: 0.9333\n",
            "Epoch 166/200\n",
            "30/30 [==============================] - 0s 746us/sample - loss: 0.1158 - acc: 0.9667\n",
            "Epoch 167/200\n",
            "30/30 [==============================] - 0s 550us/sample - loss: 0.0762 - acc: 0.9667\n",
            "Epoch 168/200\n",
            "30/30 [==============================] - 0s 662us/sample - loss: 0.0800 - acc: 0.9667\n",
            "Epoch 169/200\n",
            "30/30 [==============================] - 0s 550us/sample - loss: 0.0901 - acc: 0.9667\n",
            "Epoch 170/200\n",
            "30/30 [==============================] - 0s 602us/sample - loss: 0.0778 - acc: 0.9667\n",
            "Epoch 171/200\n",
            "30/30 [==============================] - 0s 616us/sample - loss: 0.0954 - acc: 0.9333\n",
            "Epoch 172/200\n",
            "30/30 [==============================] - 0s 591us/sample - loss: 0.0470 - acc: 1.0000\n",
            "Epoch 173/200\n",
            "30/30 [==============================] - 0s 628us/sample - loss: 0.0634 - acc: 0.9667\n",
            "Epoch 174/200\n",
            "30/30 [==============================] - 0s 593us/sample - loss: 0.0922 - acc: 0.9667\n",
            "Epoch 175/200\n",
            "30/30 [==============================] - 0s 602us/sample - loss: 0.1280 - acc: 0.9333\n",
            "Epoch 176/200\n",
            "30/30 [==============================] - 0s 596us/sample - loss: 0.1083 - acc: 0.9667\n",
            "Epoch 177/200\n",
            "30/30 [==============================] - 0s 552us/sample - loss: 0.0844 - acc: 0.9667\n",
            "Epoch 178/200\n",
            "30/30 [==============================] - 0s 571us/sample - loss: 0.0799 - acc: 0.9667\n",
            "Epoch 179/200\n",
            "30/30 [==============================] - 0s 634us/sample - loss: 0.0715 - acc: 0.9667\n",
            "Epoch 180/200\n",
            "30/30 [==============================] - 0s 654us/sample - loss: 0.0798 - acc: 0.9667\n",
            "Epoch 181/200\n",
            "30/30 [==============================] - 0s 538us/sample - loss: 0.0674 - acc: 0.9667\n",
            "Epoch 182/200\n",
            "30/30 [==============================] - 0s 565us/sample - loss: 0.0712 - acc: 0.9667\n",
            "Epoch 183/200\n",
            "30/30 [==============================] - 0s 602us/sample - loss: 0.0827 - acc: 0.9333\n",
            "Epoch 184/200\n",
            "30/30 [==============================] - 0s 573us/sample - loss: 0.1004 - acc: 0.9667\n",
            "Epoch 185/200\n",
            "30/30 [==============================] - 0s 613us/sample - loss: 0.0686 - acc: 0.9667\n",
            "Epoch 186/200\n",
            "30/30 [==============================] - 0s 547us/sample - loss: 0.0785 - acc: 0.9667\n",
            "Epoch 187/200\n",
            "30/30 [==============================] - 0s 581us/sample - loss: 0.0805 - acc: 0.9667\n",
            "Epoch 188/200\n",
            "30/30 [==============================] - 0s 685us/sample - loss: 0.1037 - acc: 0.9667\n",
            "Epoch 189/200\n",
            "30/30 [==============================] - 0s 673us/sample - loss: 0.0925 - acc: 0.9667\n",
            "Epoch 190/200\n",
            "30/30 [==============================] - 0s 560us/sample - loss: 0.0723 - acc: 0.9667\n",
            "Epoch 191/200\n",
            "30/30 [==============================] - 0s 641us/sample - loss: 0.1066 - acc: 0.9667\n",
            "Epoch 192/200\n",
            "30/30 [==============================] - 0s 545us/sample - loss: 0.0661 - acc: 0.9667\n",
            "Epoch 193/200\n",
            "30/30 [==============================] - 0s 791us/sample - loss: 0.0634 - acc: 0.9667\n",
            "Epoch 194/200\n",
            "30/30 [==============================] - 0s 563us/sample - loss: 0.0620 - acc: 0.9667\n",
            "Epoch 195/200\n",
            "30/30 [==============================] - 0s 586us/sample - loss: 0.0692 - acc: 0.9667\n",
            "Epoch 196/200\n",
            "30/30 [==============================] - 0s 555us/sample - loss: 0.0485 - acc: 1.0000\n",
            "Epoch 197/200\n",
            "30/30 [==============================] - 0s 582us/sample - loss: 0.0860 - acc: 0.9333\n",
            "Epoch 198/200\n",
            "30/30 [==============================] - 0s 638us/sample - loss: 0.0756 - acc: 0.9667\n",
            "Epoch 199/200\n",
            "30/30 [==============================] - 0s 774us/sample - loss: 0.0835 - acc: 0.9667\n",
            "Epoch 200/200\n",
            "30/30 [==============================] - 0s 701us/sample - loss: 0.0722 - acc: 0.9667\n",
            "Done\n"
          ]
        }
      ],
      "source": [
        "model = Sequential()\n",
        "model.add(Dense(128, input_shape=(len(train_x[0]),), activation='relu'))\n",
        "model.add(Dropout(0.5))\n",
        "model.add(Dense(64, activation='relu'))\n",
        "model.add(Dense(len(train_y[0]), activation='softmax'))\n",
        "\n",
        "sgd = SGD(lr=0.01, decay=1e-6, momentum=0.9, nesterov= True)\n",
        "model.compile(loss= 'categorical_crossentropy', optimizer=sgd, metrics=['accuracy'])\n",
        "\n",
        "hist = model.fit(np.array(train_x), np.array(train_y), epochs=200, batch_size=5, verbose=1)\n",
        "model.save('chatbotmodelmodel.h5', hist)\n",
        "print(\"Done\")"
      ]
    },
    {
      "cell_type": "code",
      "execution_count": null,
      "metadata": {
        "id": "Lq10---k3OoI"
      },
      "outputs": [],
      "source": [
        "#chatbot.py\n",
        "import random\n",
        "import pickle \n",
        "import numpy as np\n",
        "import json \n",
        "\n",
        "import nltk\n",
        "from nltk.stem import WordNetLemmatizer"
      ]
    },
    {
      "cell_type": "code",
      "execution_count": null,
      "metadata": {
        "id": "C13ArQ_e54Qw"
      },
      "outputs": [],
      "source": [
        "from tensorflow.keras.models import load_model\n",
        "\n",
        "lemmatizer = WordNetLemmatizer()\n",
        "intents = json.loads(open('/content/drive/MyDrive/simple_chat_bot/intents.json').read())"
      ]
    },
    {
      "cell_type": "code",
      "execution_count": null,
      "metadata": {
        "id": "N_Jfp5DL6Dmn"
      },
      "outputs": [],
      "source": [
        "words = pickle.load(open('/content/drive/MyDrive/simple_chat_bot/words.pkl', 'rb'))\n",
        "classes = pickle.load(open('/content/drive/MyDrive/simple_chat_bot/classes.pkl', 'rb'))\n",
        "model = load_model('/content/drive/MyDrive/simple_chat_bot/chatbot_model.model')\n",
        "\n",
        "def clean_up_sentence(sentence):\n",
        "    sentence_words = nltk.word_tokenize(sentence)\n",
        "    sentence_words = [lemmatizer.lemmatize(word) for word in sentence_words]\n",
        "    return sentence_words\n",
        "\n",
        "def bag_of_words(sentence):\n",
        "    sentence_words = clean_up_sentence(sentence)\n",
        "    bag = [0] * len(words)\n",
        "    for w in sentence_words:\n",
        "        for i, word in enumerate(words):\n",
        "            if word == w: \n",
        "                bag[i] = 1\n",
        "    return np.array(bag)\n"
      ]
    },
    {
      "cell_type": "code",
      "execution_count": null,
      "metadata": {
        "colab": {
          "background_save": true,
          "base_uri": "https://localhost:8080/"
        },
        "id": "UKdzjGIt8O1I",
        "outputId": "64093a69-7118-4be5-c452-0fed304e26a0"
      },
      "outputs": [
        {
          "name": "stdout",
          "output_type": "stream",
          "text": [
            "GO! Bot is running!\n",
            "hi\n"
          ]
        },
        {
          "output_type": "stream",
          "name": "stderr",
          "text": [
            "/usr/local/lib/python3.7/dist-packages/keras/engine/training_v1.py:2079: UserWarning: `Model.state_updates` will be removed in a future version. This property should not be used in TensorFlow 2.0, as `updates` are applied automatically.\n",
            "  updates=self.state_updates,\n"
          ]
        },
        {
          "output_type": "stream",
          "name": "stdout",
          "text": [
            "Good to see you again!\n",
            "what is your name\n",
            "You can call me Jim.\n",
            "your owner name is?\n",
            "I'm Jim the assistant of Saba.\n",
            "your age?\n",
            "5 years young!\n",
            "where is the shop?\n",
            "We sell chocolate chip cookies for $2!\n",
            "what is on the menu?\n",
            "Cookies are on the menu!\n",
            "shop name?\n",
            "I'm Jim the assistant of Saba.\n",
            "what is the shop name?\n",
            "The shop is on 108 Backers Street\n",
            "name of the sho?\n",
            "I'm Jim the assistant of Saba.\n",
            "name of the shop?\n",
            "Cookies are on the menu!\n",
            "what is the shop name?\n",
            "The shop is on 108 Backers Street\n",
            "what is the shops name\n",
            "The shop is on 108 Backers Street\n",
            "shop of the name?\n",
            "Cookies are on the menu!\n",
            "do you delivery?\n",
            "Hello!\n",
            "hi!\n",
            "Hi there, how can I help?\n",
            "give me cookies?\n",
            "Hi there, how can I help?\n"
          ]
        }
      ],
      "source": [
        "def predict_class(sentence):\n",
        "    bow = bag_of_words(sentence)\n",
        "    res = model.predict(np.array([bow]))[0]\n",
        "    ERROR_THRESHOLD = 0.25\n",
        "    results = [[i, r] for i, r in enumerate(res) if r > ERROR_THRESHOLD]\n",
        "\n",
        "    results.sort(key=lambda x: x[1], reverse=True)\n",
        "    return_list = []\n",
        "    for r in results:\n",
        "        return_list.append({'intent': classes[r[0]], 'probability': str(r[1])})\n",
        "    return return_list\n",
        "\n",
        "def get_response(intents_list, intents_json):\n",
        "    tag = intents_list[0]['intent']\n",
        "    list_of_intents = intents_json['intents']\n",
        "    for i in list_of_intents:\n",
        "        if i['tag'] == tag:\n",
        "            result = random.choice(i['responses'])\n",
        "            break\n",
        "    return result\n",
        "\n",
        "print(\"GO! Bot is running!\")\n",
        "\n",
        "while True:\n",
        "    message = input(\"\")\n",
        "    ints = predict_class(message)\n",
        "    res = get_response(ints, intents)\n",
        "    print(res)\n"
      ]
    }
  ],
  "metadata": {
    "accelerator": "GPU",
    "colab": {
      "collapsed_sections": [],
      "provenance": []
    },
    "kernelspec": {
      "display_name": "Python 3",
      "name": "python3"
    },
    "language_info": {
      "name": "python"
    }
  },
  "nbformat": 4,
  "nbformat_minor": 0
}